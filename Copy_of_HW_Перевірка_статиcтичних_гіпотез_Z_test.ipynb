{
  "cells": [
    {
      "cell_type": "markdown",
      "metadata": {
        "id": "view-in-github",
        "colab_type": "text"
      },
      "source": [
        "<a href=\"https://colab.research.google.com/github/AZhytnyk/DZ_DLA/blob/main/Copy_of_HW_%D0%9F%D0%B5%D1%80%D0%B5%D0%B2%D1%96%D1%80%D0%BA%D0%B0_%D1%81%D1%82%D0%B0%D1%82%D0%B8c%D1%82%D0%B8%D1%87%D0%BD%D0%B8%D1%85_%D0%B3%D1%96%D0%BF%D0%BE%D1%82%D0%B5%D0%B7_Z_test.ipynb\" target=\"_parent\"><img src=\"https://colab.research.google.com/assets/colab-badge.svg\" alt=\"Open In Colab\"/></a>"
      ]
    },
    {
      "cell_type": "markdown",
      "id": "e152f6d6",
      "metadata": {
        "ExecuteTime": {
          "end_time": "2022-12-10T14:29:24.703416Z",
          "start_time": "2022-12-10T14:29:24.688485Z"
        },
        "id": "e152f6d6"
      },
      "source": [
        "#Перевірка статиcтичних гіпотез. Z-test.\n",
        "\n"
      ]
    },
    {
      "cell_type": "markdown",
      "id": "cd404683",
      "metadata": {
        "id": "cd404683"
      },
      "source": [
        "0. Зчитайте дані з `data.csv` у змінну data, яка має тип pandas.DataFrame. Ми будемо далі працювати з цією змінною."
      ]
    },
    {
      "cell_type": "code",
      "execution_count": 27,
      "id": "b20b6ba2",
      "metadata": {
        "id": "b20b6ba2",
        "colab": {
          "base_uri": "https://localhost:8080/"
        },
        "outputId": "53e25e54-202c-4010-8c8f-c5e46eb6a326"
      },
      "outputs": [
        {
          "output_type": "stream",
          "name": "stdout",
          "text": [
            "Drive already mounted at /content/drive; to attempt to forcibly remount, call drive.mount(\"/content/drive\", force_remount=True).\n"
          ]
        }
      ],
      "source": [
        "from google.colab import drive\n",
        "drive.mount('/content/drive')"
      ]
    },
    {
      "cell_type": "code",
      "source": [
        "import pandas as pd\n",
        "data = pd.read_csv(\"data.csv\")\n"
      ],
      "metadata": {
        "id": "E9pBa2rv7ysk"
      },
      "id": "E9pBa2rv7ysk",
      "execution_count": 28,
      "outputs": []
    },
    {
      "cell_type": "markdown",
      "id": "3d06cbbf",
      "metadata": {
        "id": "3d06cbbf"
      },
      "source": [
        "Запустіть код нижче. Для коректної робити всіх подальших методів дані мають бути у вигляді одновимірного `numpy.ndarray` вектора та мати розмірність (100,). Така розмірність означає, що дані - одновимірні (колонка), якщо б розмірність була (100, 1), то дані сприймаються методами як двовимірні (таблиця), хоча для нас виглядати можуть так само."
      ]
    },
    {
      "cell_type": "code",
      "execution_count": 29,
      "id": "cce1632b",
      "metadata": {
        "id": "cce1632b",
        "colab": {
          "base_uri": "https://localhost:8080/"
        },
        "outputId": "72e351fa-b0c7-4d5e-d93e-751fa35bc558"
      },
      "outputs": [
        {
          "output_type": "execute_result",
          "data": {
            "text/plain": [
              "(100,)"
            ]
          },
          "metadata": {},
          "execution_count": 29
        }
      ],
      "source": [
        "data = data.data.values\n",
        "data.shape"
      ]
    },
    {
      "cell_type": "markdown",
      "id": "abdcef5d",
      "metadata": {
        "id": "abdcef5d"
      },
      "source": [
        "**Завдання 1**. Зчитані дані - це сума покупок в доларах наших покупців на сайті протягом липня 2025 року.\n",
        "\n",
        "До цього місяця, ми мали продажі в середньому на чек $20.\n",
        "\n",
        "Необхідно зʼясувати, чи вийшло у нас статистично значущо **підвищити** середній чек за липень 2025?\n",
        "\n",
        "Аби дати відповідь - ми проведемо z-test на рівні значущості $\\alpha=0.05$ двома способами. В цьому завданні ми будемо виконувати обчислення \"вручну\" з використанням бібліотек numpy та scipy.stats подібно до прикладу в лекції. Для цього виконайте наступні 7 кроків. Правильне виконання кожного з кроків оцінюється в 1 бал.\n",
        "\n",
        "1. Запишіть параметри задачі у змінні Python:\n",
        "    - `sample_mean` - $\\bar{x}$, середнє значення в вибірці\n",
        "    - `population_mean` - $\\mu_0$, середнє значення в популяції (тобто те, з яким ми порівнюємо середнє вибіркове значення)\n",
        "    - `population_std` - $\\sigma$, вибіркове стандартне відхилення, яке ми вважаємо, що є рівним ст. відх. популяції, адже маємо достатньо велику вибірку.\n",
        "    - `sample_size` - $n$, розмір вибірки\n",
        "    - `alpha` - $\\alpha$ рівень значущості\n",
        "    \n",
        "    **Увага!** Для обчислення стандартного відхилення маємо скористатись функцією `np.std(your_dataframe, ddof=1)`. Чому так - розбираємо в лекції про t-test.\n",
        "\n",
        "\n",
        "2. Визначте для цієї задачі:\n",
        "    - якою є гіпотеза $H_0$\n",
        "    - якою є альтернативна гіпотеза $H_a$\n",
        "    - з яким типом тесту ми маємо справу - лівосторонній, правосторонній чи двосторонній.\n",
        "\n",
        "3. Обчисліть стандартну помилку SE.\n",
        "4. Розрахуйте z-статистику.\n",
        "5. Знайдіть критичне z-значення з допомогою бібліотеки stats.\n",
        "6. Обчисліть p-value з допомогою бібліотеки stats.\n",
        "7. Прийміть рішення, чи відхиляєте ви гіпотезу $H_0$. Для прийняття рішення зробіть і порівняння z-статистики з критичним значенням, і проаналізуйте p-value."
      ]
    },
    {
      "cell_type": "code",
      "source": [
        "import numpy as np\n",
        "from scipy import stats\n",
        "import pandas as pd\n",
        "\n",
        "# 1. Зчитуємо CSV (файл у тимчасовому середовищі Colab)\n",
        "data = pd.read_csv(\"data.csv\")\n",
        "\n",
        "# 2. Витягуємо колонку \"data\" у numpy-масив\n",
        "values = data[\"data\"].to_numpy()\n",
        "\n",
        "# 3. Параметри задачі\n",
        "sample_mean = np.mean(values)         # x̄\n",
        "population_mean = 20                  # μ0\n",
        "population_std = np.std(values, ddof=1)  # σ вибіркове\n",
        "sample_size = len(values)             # n\n",
        "alpha = 0.05                          # рівень значущості\n",
        "\n",
        "print(\"Sample mean:\", sample_mean)\n",
        "print(\"Population mean:\", population_mean)\n",
        "print(\"Sample std:\", population_std)\n",
        "print(\"Sample size:\", sample_size)\n",
        "\n",
        "# 4. Формулювання гіпотез\n",
        "# H0: μ = 20\n",
        "# Ha: μ > 20 (правосторонній тест)\n",
        "\n",
        "# 5. Стандартна помилка\n",
        "SE = population_std / np.sqrt(sample_size)\n",
        "print(\"Standard Error (SE):\", SE)\n",
        "\n",
        "# 6. Z-статистика\n",
        "z_stat = (sample_mean - population_mean) / SE\n",
        "print(\"Z-statistic:\", z_stat)\n",
        "\n",
        "# 7. Критичне значення для правостороннього тесту\n",
        "z_crit = stats.norm.ppf(1 - alpha)\n",
        "print(\"Critical Z value:\", z_crit)\n",
        "\n",
        "# 8. P-value\n",
        "p_value = 1 - stats.norm.cdf(z_stat)\n",
        "print(\"P-value:\", p_value)\n",
        "\n",
        "# 9. Прийняття рішення\n",
        "if z_stat >= z_crit and p_value < alpha:\n",
        "    print(\"Відхиляємо H0: середній чек статистично значуще збільшився.\")\n",
        "else:\n",
        "    print(\"Немає підстав відхиляти H0: підвищення середнього чека не доведено статистично.\")"
      ],
      "metadata": {
        "id": "NX2XezWLdf4t",
        "colab": {
          "base_uri": "https://localhost:8080/"
        },
        "outputId": "c57110a5-197f-435a-cd31-d582feb1dd81"
      },
      "id": "NX2XezWLdf4t",
      "execution_count": 30,
      "outputs": [
        {
          "output_type": "stream",
          "name": "stdout",
          "text": [
            "Sample mean: 19.37755319670441\n",
            "Population mean: 20\n",
            "Sample std: 6.25356123240434\n",
            "Sample size: 100\n",
            "Standard Error (SE): 0.625356123240434\n",
            "Z-statistic: -0.995347738933505\n",
            "Critical Z value: 1.6448536269514722\n",
            "P-value: 0.8402164165464012\n",
            "Немає підстав відхиляти H0: підвищення середнього чека не доведено статистично.\n"
          ]
        }
      ]
    },
    {
      "cell_type": "markdown",
      "source": [
        "**Завдання 2.** Виконайте обчислення z-test з використанням бібліотеки statsmodels.\n",
        "\n",
        "Отримайте z-статистику та р-значення.\n",
        "\n",
        "Виведіть p-значення та зробіть висновок, чи ми маємо достатньо доказів, аби стверджувати, що середній чек зріс.\n",
        "\n",
        "Чи зійшлись значення z-статистику та р-значення в цьому завданні з попередніми обчисленнями?\n",
        "\n",
        "Завдання оцінюється в 3 бали."
      ],
      "metadata": {
        "id": "0FOBByRMXkL2"
      },
      "id": "0FOBByRMXkL2"
    },
    {
      "cell_type": "code",
      "source": [
        "import statsmodels.api as sm\n",
        "from statsmodels.stats import weightstats as stests\n",
        "\n",
        "# values - це твій numpy-масив з попереднього завдання\n",
        "\n",
        "# Проводимо z-test: перевіряємо, чи mean > 20\n",
        "z_stat, p_value = stests.ztest(values, value=20, alternative='larger')\n",
        "\n",
        "print(\"Z-statistic:\", z_stat)\n",
        "print(\"P-value:\", p_value)\n",
        "\n",
        "# Висновок\n",
        "alpha = 0.05\n",
        "if p_value < alpha:\n",
        "    print(\"Відхиляємо H0: середній чек статистично значуще збільшився.\")\n",
        "else:\n",
        "    print(\"Немає підстав відхиляти H0: підвищення середнього чека не доведено статистично.\")"
      ],
      "metadata": {
        "id": "f_Oa0DJhdg6v",
        "colab": {
          "base_uri": "https://localhost:8080/"
        },
        "outputId": "4a8e32df-d5ec-4ab7-e7d6-7ef5577db492"
      },
      "id": "f_Oa0DJhdg6v",
      "execution_count": 31,
      "outputs": [
        {
          "output_type": "stream",
          "name": "stdout",
          "text": [
            "Z-statistic: -0.9953477389335053\n",
            "P-value: 0.8402164165464012\n",
            "Немає підстав відхиляти H0: підвищення середнього чека не доведено статистично.\n"
          ]
        }
      ]
    },
    {
      "cell_type": "markdown",
      "source": [
        "Значення Z-statistic у обох обчисленнях збігаються\n"
      ],
      "metadata": {
        "id": "8iOFIjcsChvN"
      },
      "id": "8iOFIjcsChvN"
    }
  ],
  "metadata": {
    "hide_input": false,
    "kernelspec": {
      "display_name": "Python 3 (ipykernel)",
      "language": "python",
      "name": "python3"
    },
    "language_info": {
      "codemirror_mode": {
        "name": "ipython",
        "version": 3
      },
      "file_extension": ".py",
      "mimetype": "text/x-python",
      "name": "python",
      "nbconvert_exporter": "python",
      "pygments_lexer": "ipython3",
      "version": "3.11.3"
    },
    "toc": {
      "base_numbering": 1,
      "nav_menu": {},
      "number_sections": true,
      "sideBar": true,
      "skip_h1_title": false,
      "title_cell": "Table of Contents",
      "title_sidebar": "Contents",
      "toc_cell": false,
      "toc_position": {},
      "toc_section_display": true,
      "toc_window_display": false
    },
    "varInspector": {
      "cols": {
        "lenName": 16,
        "lenType": 16,
        "lenVar": 40
      },
      "kernels_config": {
        "python": {
          "delete_cmd_postfix": "",
          "delete_cmd_prefix": "del ",
          "library": "var_list.py",
          "varRefreshCmd": "print(var_dic_list())"
        },
        "r": {
          "delete_cmd_postfix": ") ",
          "delete_cmd_prefix": "rm(",
          "library": "var_list.r",
          "varRefreshCmd": "cat(var_dic_list()) "
        }
      },
      "types_to_exclude": [
        "module",
        "function",
        "builtin_function_or_method",
        "instance",
        "_Feature"
      ],
      "window_display": false
    },
    "colab": {
      "provenance": [],
      "include_colab_link": true
    }
  },
  "nbformat": 4,
  "nbformat_minor": 5
}